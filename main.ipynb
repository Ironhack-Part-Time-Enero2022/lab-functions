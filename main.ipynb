{
 "cells": [
  {
   "cell_type": "markdown",
   "metadata": {},
   "source": [
    "# Functions"
   ]
  },
  {
   "cell_type": "markdown",
   "metadata": {},
   "source": [
    "On this lab we will put to practice some of the concepts we have learned on this past few days.\n",
    "\n",
    "`NOTE: On this lab you should try to write all the functions yourself using only the most basic of python syntax and without functions such as len, count, sum, max, min, in, etc. Give it a try. 🧑🏻‍💻👩🏻‍💻`\n",
    "\n",
    "The cell after each exercise contains a few tests to check if your function works as expected."
   ]
  },
  {
   "cell_type": "code",
   "execution_count": 337,
   "metadata": {},
   "outputs": [],
   "source": [
    "from mod.testing import *\n",
    "import unittest"
   ]
  },
  {
   "cell_type": "markdown",
   "metadata": {},
   "source": [
    "## 1. Write a function that returns the greater of two numbers"
   ]
  },
  {
   "cell_type": "code",
   "execution_count": 338,
   "metadata": {},
   "outputs": [],
   "source": [
    "def greater(a,b):\n",
    "    if a > b:\n",
    "        return a\n",
    "    elif a < b:\n",
    "        return b\n",
    "    else:\n",
    "        return \"a y b son iguales\"\n"
   ]
  },
  {
   "cell_type": "code",
   "execution_count": 339,
   "metadata": {},
   "outputs": [
    {
     "name": "stderr",
     "output_type": "stream",
     "text": [
      "....................................................................................................\n",
      "----------------------------------------------------------------------\n",
      "Ran 100 tests in 0.050s\n",
      "\n",
      "OK\n"
     ]
    }
   ],
   "source": [
    "# This will test your function \n",
    "test_greater(greater)"
   ]
  },
  {
   "cell_type": "markdown",
   "metadata": {},
   "source": [
    "## 2. Now write a function that returns the largest element on a list"
   ]
  },
  {
   "cell_type": "code",
   "execution_count": 340,
   "metadata": {},
   "outputs": [],
   "source": [
    "def greatest(arr):\n",
    "    x = 0\n",
    "    for i in arr:\n",
    "        if i >= x:\n",
    "            x = i\n",
    "    return x\n"
   ]
  },
  {
   "cell_type": "code",
   "execution_count": 341,
   "metadata": {},
   "outputs": [
    {
     "name": "stderr",
     "output_type": "stream",
     "text": [
      "....................................................................................................\n",
      "----------------------------------------------------------------------\n",
      "Ran 100 tests in 0.042s\n",
      "\n",
      "OK\n"
     ]
    }
   ],
   "source": [
    "# This will test your function \n",
    "test_greatest(greatest)"
   ]
  },
  {
   "cell_type": "markdown",
   "metadata": {},
   "source": [
    "## 3. Write a function that sums all the elements on a list"
   ]
  },
  {
   "cell_type": "code",
   "execution_count": 342,
   "metadata": {},
   "outputs": [],
   "source": [
    "def sum_all(arr):\n",
    "    x = 0\n",
    "    for i in arr:\n",
    "        x += i\n",
    "    return x"
   ]
  },
  {
   "cell_type": "code",
   "execution_count": 343,
   "metadata": {},
   "outputs": [
    {
     "name": "stderr",
     "output_type": "stream",
     "text": [
      "....................................................................................................\n",
      "----------------------------------------------------------------------\n",
      "Ran 100 tests in 0.040s\n",
      "\n",
      "OK\n"
     ]
    }
   ],
   "source": [
    "# This will test your function \n",
    "test_sum(sum_all)"
   ]
  },
  {
   "cell_type": "markdown",
   "metadata": {},
   "source": [
    "## 4. Write another function that multiplies all the elements on a list"
   ]
  },
  {
   "cell_type": "code",
   "execution_count": 344,
   "metadata": {},
   "outputs": [],
   "source": [
    "def mult_all(arr):\n",
    "    x = 1\n",
    "    for i in arr:\n",
    "        x *= i\n",
    "    return x"
   ]
  },
  {
   "cell_type": "code",
   "execution_count": 345,
   "metadata": {},
   "outputs": [
    {
     "name": "stderr",
     "output_type": "stream",
     "text": [
      "....................................................................................................\n",
      "----------------------------------------------------------------------\n",
      "Ran 100 tests in 0.040s\n",
      "\n",
      "OK\n"
     ]
    }
   ],
   "source": [
    "# This will test your function \n",
    "test_mult(mult_all)"
   ]
  },
  {
   "cell_type": "markdown",
   "metadata": {},
   "source": [
    "## 5. Now combine those two ideas and write a function that receives a list and either \"+\" or \"*\" and outputs acordingly"
   ]
  },
  {
   "cell_type": "code",
   "execution_count": 346,
   "metadata": {},
   "outputs": [],
   "source": [
    "def oper_all(arr, oper):\n",
    "    if oper == \"+\":\n",
    "        x = 0\n",
    "        for i in arr:\n",
    "            x += i\n",
    "        return x\n",
    "    elif oper == \"*\":\n",
    "        x = 1\n",
    "        for i in arr:\n",
    "            x *= i\n",
    "        return x"
   ]
  },
  {
   "cell_type": "code",
   "execution_count": 347,
   "metadata": {},
   "outputs": [
    {
     "name": "stderr",
     "output_type": "stream",
     "text": [
      "....................................................................................................\n",
      "----------------------------------------------------------------------\n",
      "Ran 100 tests in 0.043s\n",
      "\n",
      "OK\n"
     ]
    }
   ],
   "source": [
    "# This will test your function \n",
    "test_operations(oper_all)"
   ]
  },
  {
   "cell_type": "markdown",
   "metadata": {},
   "source": [
    "## 6. Write a function that returns the factorial of a number."
   ]
  },
  {
   "cell_type": "code",
   "execution_count": 348,
   "metadata": {},
   "outputs": [],
   "source": [
    "def factorial(n):\n",
    "    multi = 1\n",
    "    contador = n\n",
    "    while contador > 1:\n",
    "        multi *= contador\n",
    "        contador -= 1\n",
    "    return multi"
   ]
  },
  {
   "cell_type": "code",
   "execution_count": 349,
   "metadata": {},
   "outputs": [
    {
     "name": "stderr",
     "output_type": "stream",
     "text": [
      "....................................................................................................\n",
      "----------------------------------------------------------------------\n",
      "Ran 100 tests in 0.050s\n",
      "\n",
      "OK\n"
     ]
    }
   ],
   "source": [
    "# This will test your function \n",
    "test_factorial(factorial)"
   ]
  },
  {
   "cell_type": "markdown",
   "metadata": {},
   "source": [
    "## 7. Write a function that takes a list and returns a list of the unique values.\n",
    "\n",
    "`NOTE: You cannot use set. 🤔`"
   ]
  },
  {
   "cell_type": "code",
   "execution_count": 350,
   "metadata": {},
   "outputs": [],
   "source": [
    "def unique(arr):\n",
    "    valores_unicos = []\n",
    "    for i in arr:\n",
    "        contador = 0\n",
    "        contador2= 0\n",
    "        for x in arr:\n",
    "            if i == x:\n",
    "                contador +=1\n",
    "        if contador > 1:  \n",
    "            for y in valores_unicos:\n",
    "                if i == y:\n",
    "                    contador2 += 1\n",
    "            if contador2 == 0:\n",
    "                valores_unicos.append(i)\n",
    "        else:\n",
    "            valores_unicos.append(i)\n",
    "    return(valores_unicos)"
   ]
  },
  {
   "cell_type": "code",
   "execution_count": 351,
   "metadata": {},
   "outputs": [
    {
     "name": "stderr",
     "output_type": "stream",
     "text": [
      "....................................................................................................\n",
      "----------------------------------------------------------------------\n",
      "Ran 100 tests in 1.031s\n",
      "\n",
      "OK\n"
     ]
    }
   ],
   "source": [
    "# This will test your function \n",
    "test_unique(unique)"
   ]
  },
  {
   "cell_type": "markdown",
   "metadata": {},
   "source": [
    "## 8. Write a function that returns the mode of a list, i.e.: the element that appears the most times.\n",
    "`NOTE: You should not use count... 🧐`"
   ]
  },
  {
   "cell_type": "code",
   "execution_count": 352,
   "metadata": {},
   "outputs": [],
   "source": [
    "def mode_counter(arr):\n",
    "    #el inicio del codigo es igual que el ejercicio anterior hasta obtener el listado de elementos unicos\n",
    "    #me hubiese gustado haber podido ejecutar la funcion anterior pero me daba problema la correccion automatica\n",
    "    valores_unicos = []\n",
    "    for i in arr:\n",
    "        contador = 0\n",
    "        contador2= 0\n",
    "        for x in arr:\n",
    "            if i == x:\n",
    "                contador +=1\n",
    "        if contador > 1:  \n",
    "            for y in valores_unicos:\n",
    "                if i == y:\n",
    "                    contador2 += 1\n",
    "            if contador2 == 0:\n",
    "                valores_unicos.append(i)\n",
    "        else:\n",
    "            valores_unicos.append(i)\n",
    "    #hasta aqui el codigo es igual al ejercicio anterior\n",
    "    \n",
    "    dic_contador = {}\n",
    "    for i in valores_unicos:\n",
    "        contador = 0\n",
    "        for x in arr:\n",
    "            if i == x:\n",
    "                contador += 1\n",
    "        dic_contador[i] = contador\n",
    "    moda = 0\n",
    "    key_mayor = 0\n",
    "    for i in valores_unicos:\n",
    "        for k, v in dic_contador.items():\n",
    "            if key_mayor < v:\n",
    "                key_mayor = v\n",
    "                moda = k\n",
    "        return moda\n",
    "    #si dos numeros comparten repeticiones, solo mostrara un numero y será el primero que encuentre en el diccionario"
   ]
  },
  {
   "cell_type": "code",
   "execution_count": 353,
   "metadata": {},
   "outputs": [
    {
     "name": "stderr",
     "output_type": "stream",
     "text": [
      "....................................................................................................\n",
      "----------------------------------------------------------------------\n",
      "Ran 100 tests in 0.140s\n",
      "\n",
      "OK\n"
     ]
    }
   ],
   "source": [
    "# This will test your function \n",
    "test_mode(mode_counter)"
   ]
  },
  {
   "cell_type": "markdown",
   "metadata": {},
   "source": [
    "## 9. Write a function that calculates the standard deviation of a list.\n",
    "`NOTE: Do not use any libraries or already built functions. 😉`"
   ]
  },
  {
   "cell_type": "code",
   "execution_count": 354,
   "metadata": {},
   "outputs": [],
   "source": [
    "from statistics import stdev\n",
    "def st_dev(arr):\n",
    "    \n",
    "    #para determinar el len() de la lista introducida\n",
    "    \n",
    "    total_valores = 0\n",
    "    for i in arr:\n",
    "        total_valores += 1\n",
    "        \n",
    "    #hallar la media (mean)\n",
    "\n",
    "    suma_valores = 0\n",
    "    for i in arr:\n",
    "        suma_valores += i\n",
    "    media = suma_valores / total_valores\n",
    "    \n",
    "    #suma de elementos de una lista de los cuadrados de las desviaciones (resta de cada valor menos la media)\n",
    "    \n",
    "    cuadrado_dev = [(i - media)**2 for i in arr]\n",
    "    suma_cuadrados = 0\n",
    "    for i in cuadrado_dev:\n",
    "        suma_cuadrados += i\n",
    "    \n",
    "    #para obtener la desviacion estandar dividimos la suma anterior entre el numero de elementos de la lista y square root\n",
    "    dev_estandar = (suma_cuadrados / (total_valores - 1)) ** 0.5\n",
    "    \n",
    "    return dev_estandar"
   ]
  },
  {
   "cell_type": "code",
   "execution_count": 355,
   "metadata": {},
   "outputs": [
    {
     "name": "stderr",
     "output_type": "stream",
     "text": [
      "....................................................................................................\n",
      "----------------------------------------------------------------------\n",
      "Ran 100 tests in 0.043s\n",
      "\n",
      "OK\n"
     ]
    }
   ],
   "source": [
    "# This will test your function \n",
    "test_stdev(st_dev)"
   ]
  },
  {
   "cell_type": "markdown",
   "metadata": {},
   "source": [
    "## 10. Write a function to check if a string is a pangram, i.e.: if it contains all the letters of the alphabet at least once. Mind that the strings may contain characters that are not letters."
   ]
  },
  {
   "cell_type": "code",
   "execution_count": 356,
   "metadata": {},
   "outputs": [],
   "source": [
    "def pangram(string_1):\n",
    "    \n",
    "    #primero creare el diccionario asignando como clave cada letra del abecedario\n",
    "    \n",
    "    import string\n",
    "    abecedario = (list(string.ascii_lowercase))\n",
    "    #abecedario = [\"a\",\"b\",\"c\",\"d\",\"e\",\"f\",\"g\",\"h\",\"i\",\"j\",\"k\",\"l\",\"m\",\"n\",\"ñ\",\"o\",\"p\",\"q\",\"r\",\"s\",\"t\",\"u\",\"v\",\"w\",\"x\",\"y\",\"z\"]\n",
    "    dic_alfabeto = {}\n",
    "    for i in abecedario:\n",
    "        dic_alfabeto[i] = 0\n",
    "        \n",
    "    #segundo hare minusculas los datos recibidos\n",
    "    \n",
    "    new_string = \"\"\n",
    "    for i in string_1:\n",
    "        new_string += i.lower()\n",
    "    \n",
    "    #creare el contador de valores encontrados - si este valor es menor a 1 al final del loop, is not paragram\n",
    "    \n",
    "    for k, v in dic_alfabeto.items():\n",
    "        for i in new_string:\n",
    "            if k == i:\n",
    "                dic_alfabeto[k] = 1\n",
    "    for i in dic_alfabeto.values():\n",
    "        if i < 1:\n",
    "            return False\n",
    "        \n",
    "    return True"
   ]
  },
  {
   "cell_type": "code",
   "execution_count": 357,
   "metadata": {},
   "outputs": [
    {
     "name": "stderr",
     "output_type": "stream",
     "text": [
      "..............................\n",
      "----------------------------------------------------------------------\n",
      "Ran 30 tests in 0.025s\n",
      "\n",
      "OK\n"
     ]
    }
   ],
   "source": [
    "# This will test your function \n",
    "test_pangram(pangram)"
   ]
  },
  {
   "cell_type": "markdown",
   "metadata": {},
   "source": [
    "## 11. Write a function that receives a string of comma separated words and returns a string of comma separated words sorted alphabetically.\n",
    "\n",
    "`NOTE: You may use sorted but not split and definitely no join! 🤪`"
   ]
  },
  {
   "cell_type": "code",
   "execution_count": 358,
   "metadata": {},
   "outputs": [],
   "source": [
    "def sort_alpha(string_1):\n",
    "    \n",
    "    #determinar el len() del string\n",
    "    total_elementos = 0\n",
    "    for i in string_1:\n",
    "        total_elementos += 1\n",
    "    \n",
    "    #creo una lista de palabras\n",
    "    word = \"\"\n",
    "    lista_strings = []\n",
    "    contador = 0\n",
    "    for i in string_1:\n",
    "        if i == \",\":\n",
    "            lista_strings.append(word)\n",
    "            word = \"\"\n",
    "            contador += 1\n",
    "        elif contador == total_elementos - 1:\n",
    "            word += i\n",
    "            lista_strings.append(word)\n",
    "        else:\n",
    "            word += i\n",
    "            contador += 1\n",
    "    \n",
    "    #ordeno la lista\n",
    "    lista_strings = sorted(lista_strings)\n",
    "    \n",
    "    \n",
    "    #unir todos los elementos de la lista ordenada en un solo string\n",
    "    string_ordenado = \"\"\n",
    "    for i in lista_strings:\n",
    "        string_ordenado += i\n",
    "        total_elementos_ordenados = 0\n",
    "        for i in string_ordenado:\n",
    "            total_elementos_ordenados += 1\n",
    "        if total_elementos_ordenados != total_elementos:\n",
    "            string_ordenado += \",\"\n",
    "    return string_ordenado"
   ]
  },
  {
   "cell_type": "code",
   "execution_count": 359,
   "metadata": {},
   "outputs": [
    {
     "name": "stderr",
     "output_type": "stream",
     "text": [
      "....................................................................................................\n",
      "----------------------------------------------------------------------\n",
      "Ran 100 tests in 0.052s\n",
      "\n",
      "OK\n"
     ]
    }
   ],
   "source": [
    "# This will test your function \n",
    "test_alpha(sort_alpha)"
   ]
  },
  {
   "cell_type": "markdown",
   "metadata": {},
   "source": [
    "## 12. Write a function to check if a given password is strong (at least 8 characters, at least one lower case, at least one upper case, at least one number and at least one special character). It should output True if strong and False if not.\n",
    "`Valid special characters: # @ ! $ % & ( ) ^ * [ ] { }`"
   ]
  },
  {
   "cell_type": "code",
   "execution_count": 364,
   "metadata": {},
   "outputs": [
    {
     "data": {
      "text/plain": [
       "True"
      ]
     },
     "execution_count": 364,
     "metadata": {},
     "output_type": "execute_result"
    }
   ],
   "source": [
    "def check_pass(string_1):\n",
    "    \n",
    "    #contadores requisitos\n",
    "    check_count_ch = 0 #should be >= 8\n",
    "    check_lower = 0 #should be >= 1\n",
    "    check_upper = 0 #should be >= 1\n",
    "    check_number = 0 #should be >= 1\n",
    "    check_special = 0 #should be >= 1\n",
    "    \n",
    "    #valid special characters: # @ ! $ % & ( ) ^ * [ ] { }\n",
    "    special_ch = [\"#\",\"@\",\"!\",\"$\",\"%\",\"&\",\"(\",\")\",\"^\",\"*\",\"[\",\"]\",\"{\",\"}\"]\n",
    "    \n",
    "    #MAYUSCULAS\n",
    "    import string\n",
    "    ABECEDARIO = (list(string.ascii_uppercase))\n",
    "    \n",
    "    #minusculas\n",
    "    import string\n",
    "    abecedario = (list(string.ascii_lowercase))\n",
    "    \n",
    "    #numeros\n",
    "    numeros = [\"0\",\"1\",\"2\",\"3\",\"4\",\"5\",\"6\",\"7\",\"8\",\"9\"]\n",
    "    \n",
    "    #check count\n",
    "    for i in string_1:\n",
    "        check_count_ch += 1\n",
    "    \n",
    "    #check lower\n",
    "    for i in string_1:\n",
    "        for x in abecedario:\n",
    "            if i == x:\n",
    "                check_lower += 1\n",
    "    \n",
    "    #check upper\n",
    "    for i in string_1:\n",
    "        for x in ABECEDARIO:\n",
    "            if i == x:\n",
    "                check_upper += 1\n",
    "                \n",
    "    #check number\n",
    "    for i in string_1:\n",
    "        for x in numeros:\n",
    "            if i == x:\n",
    "                check_number += 1\n",
    "    \n",
    "    #check special character\n",
    "    for i in string_1:\n",
    "        for x in special_ch:\n",
    "            if i == x:\n",
    "                check_special += 1\n",
    "    \n",
    "    #strong or not?\n",
    "    if check_count_ch >= 8 and check_lower >= 1 and check_upper >= 1 and check_number >= 1 and check_special >= 1:\n",
    "        return True\n",
    "    else:\n",
    "        return False\n",
    "        \n",
    "password = \"l&RRy(ap1n6A\"\n",
    "    \n",
    "check_pass(password)"
   ]
  },
  {
   "cell_type": "code",
   "execution_count": 365,
   "metadata": {},
   "outputs": [
    {
     "name": "stderr",
     "output_type": "stream",
     "text": [
      "....................................................................................................\n",
      "----------------------------------------------------------------------\n",
      "Ran 100 tests in 0.054s\n",
      "\n",
      "OK\n"
     ]
    }
   ],
   "source": [
    "# This will test your function \n",
    "test_pass(check_pass)"
   ]
  }
 ],
 "metadata": {
  "kernelspec": {
   "display_name": "Python 3 (ipykernel)",
   "language": "python",
   "name": "python3"
  },
  "language_info": {
   "codemirror_mode": {
    "name": "ipython",
    "version": 3
   },
   "file_extension": ".py",
   "mimetype": "text/x-python",
   "name": "python",
   "nbconvert_exporter": "python",
   "pygments_lexer": "ipython3",
   "version": "3.9.7"
  }
 },
 "nbformat": 4,
 "nbformat_minor": 4
}
