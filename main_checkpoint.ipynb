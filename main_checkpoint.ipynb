{
  "cells": [
    {
      "cell_type": "markdown",
      "metadata": {
        "id": "view-in-github",
        "colab_type": "text"
      },
      "source": [
        "<a href=\"https://colab.research.google.com/github/AliciaTenenbaum/lab-functions/blob/master/main_checkpoint.ipynb\" target=\"_parent\"><img src=\"https://colab.research.google.com/assets/colab-badge.svg\" alt=\"Open In Colab\"/></a>"
      ]
    },
    {
      "cell_type": "markdown",
      "metadata": {
        "id": "P98kJDh0WXVT"
      },
      "source": [
        "# Functions"
      ]
    },
    {
      "cell_type": "markdown",
      "metadata": {
        "id": "RVxtSIUAWXVb"
      },
      "source": [
        "On this lab we will put to practice some of the concepts we have learned on this past few days.\n",
        "\n",
        "`NOTE: On this lab you should try to write all the functions yourself using only the most basic of python syntax and without functions such as len, count, sum, max, min, in, etc. Give it a try. 🧑🏻‍💻👩🏻‍💻`\n",
        "\n",
        "The cell after each exercise contains a few tests to check if your function works as expected."
      ]
    },
    {
      "cell_type": "code",
      "execution_count": 14,
      "metadata": {
        "id": "RHpCihGyWXVd"
      },
      "outputs": [],
      "source": [
        "import unittest\n",
        "import random\n",
        "from functools import reduce\n",
        "from math import factorial\n",
        "from statistics import stdev, mode\n",
        "from string import ascii_lowercase, ascii_uppercase, digits\n"
      ]
    },
    {
      "cell_type": "markdown",
      "metadata": {
        "id": "c3tB-nnxWXVg"
      },
      "source": [
        "## 1. Write a function that returns the greater of two numbers"
      ]
    },
    {
      "cell_type": "code",
      "execution_count": null,
      "metadata": {
        "id": "qJUIsULfWXVh"
      },
      "outputs": [],
      "source": [
        "def greater(a,b):\n",
        "    if a > b:\n",
        "        return a\n",
        "    elif a < b:\n",
        "        return b\n",
        "    else:\n",
        "        return (\"son iguales\")\n",
        "    "
      ]
    },
    {
      "cell_type": "code",
      "execution_count": null,
      "metadata": {
        "id": "EjUQ27CVWXVi",
        "outputId": "963499c3-fb4a-436f-85b9-e66d3c39dc8e"
      },
      "outputs": [
        {
          "name": "stderr",
          "output_type": "stream",
          "text": [
            "....................................................................................................\n",
            "----------------------------------------------------------------------\n",
            "Ran 100 tests in 0.096s\n",
            "\n",
            "OK\n"
          ]
        }
      ],
      "source": [
        "# This will test your function \n",
        "test_greater(greater)"
      ]
    },
    {
      "cell_type": "markdown",
      "metadata": {
        "id": "XrGIblS0WXVl"
      },
      "source": [
        "## 2. Now write a function that returns the largest element on a list"
      ]
    },
    {
      "cell_type": "code",
      "execution_count": null,
      "metadata": {
        "id": "QhryIIXYWXVm"
      },
      "outputs": [],
      "source": [
        "def greatest(arr):\n",
        "    contador = 0\n",
        "\n",
        "    for x in arr:\n",
        "        \n",
        "        if x> contador: \n",
        "        \n",
        "            contador= x\n",
        "        \n",
        "    return contador"
      ]
    },
    {
      "cell_type": "code",
      "execution_count": null,
      "metadata": {
        "id": "rHq3CNl1WXVo",
        "outputId": "976b6b6d-4d3d-4c95-a630-3d02e5262e1c"
      },
      "outputs": [
        {
          "name": "stderr",
          "output_type": "stream",
          "text": [
            "....................................................................................................\n",
            "----------------------------------------------------------------------\n",
            "Ran 100 tests in 0.087s\n",
            "\n",
            "OK\n"
          ]
        }
      ],
      "source": [
        "# This will test your function \n",
        "test_greatest(greatest)"
      ]
    },
    {
      "cell_type": "markdown",
      "metadata": {
        "id": "3zmkGf1YWXVq"
      },
      "source": [
        "## 3. Write a function that sums all the elements on a list"
      ]
    },
    {
      "cell_type": "code",
      "execution_count": null,
      "metadata": {
        "id": "IDZnxUkWWXVq"
      },
      "outputs": [],
      "source": [
        "def sum_all(arr):\n",
        "    suma = 0\n",
        "    \n",
        "    for num in arr:\n",
        "        \n",
        "        suma += num\n",
        "        \n",
        "    return suma"
      ]
    },
    {
      "cell_type": "code",
      "execution_count": null,
      "metadata": {
        "id": "E1lnSvdOWXVr",
        "outputId": "a6a5be12-4bf8-494b-db9f-57f09dfacd78"
      },
      "outputs": [
        {
          "name": "stderr",
          "output_type": "stream",
          "text": [
            "....................................................................................................\n",
            "----------------------------------------------------------------------\n",
            "Ran 100 tests in 0.101s\n",
            "\n",
            "OK\n"
          ]
        }
      ],
      "source": [
        "# This will test your function \n",
        "test_sum(sum_all)"
      ]
    },
    {
      "cell_type": "markdown",
      "metadata": {
        "id": "tcavoX0uWXVs"
      },
      "source": [
        "## 4. Write another function that multiplies all the elements on a list"
      ]
    },
    {
      "cell_type": "code",
      "execution_count": null,
      "metadata": {
        "id": "MoN5EUE1WXVs"
      },
      "outputs": [],
      "source": [
        "def mult_all(arr):\n",
        "    resultado = 1\n",
        "    \n",
        "    for n in arr:\n",
        "        resultado *= n\n",
        "    \n",
        "    return resultado"
      ]
    },
    {
      "cell_type": "code",
      "execution_count": null,
      "metadata": {
        "id": "-P3Jzq_xWXVt",
        "outputId": "123f3575-1870-42aa-8d65-100ee9adef51"
      },
      "outputs": [
        {
          "name": "stderr",
          "output_type": "stream",
          "text": [
            "....................................................................................................\n",
            "----------------------------------------------------------------------\n",
            "Ran 100 tests in 0.097s\n",
            "\n",
            "OK\n"
          ]
        }
      ],
      "source": [
        "# This will test your function \n",
        "test_mult(mult_all)"
      ]
    },
    {
      "cell_type": "markdown",
      "metadata": {
        "id": "PSeESBqOWXVt"
      },
      "source": [
        "## 5. Now combine those two ideas and write a function that receives a list and either \"+\" or \"*\" and outputs acordingly"
      ]
    },
    {
      "cell_type": "code",
      "execution_count": 4,
      "metadata": {
        "id": "pyhv915jWXVt"
      },
      "outputs": [],
      "source": [
        "def oper_all (arr, oper):\n",
        "    \n",
        "    suma= arr+ oper\n",
        "    multip= arr*oper\n",
        "    return suma, multip\n"
      ]
    },
    {
      "cell_type": "code",
      "execution_count": 15,
      "metadata": {
        "colab": {
          "base_uri": "https://localhost:8080/",
          "height": 183
        },
        "id": "Ai-MZybmWXVu",
        "outputId": "5c76791e-30ad-4b0f-f8eb-7ada178f6808"
      },
      "outputs": [
        {
          "output_type": "error",
          "ename": "NameError",
          "evalue": "ignored",
          "traceback": [
            "\u001b[0;31m---------------------------------------------------------------------------\u001b[0m",
            "\u001b[0;31mNameError\u001b[0m                                 Traceback (most recent call last)",
            "\u001b[0;32m<ipython-input-15-0bce39dca04d>\u001b[0m in \u001b[0;36m<module>\u001b[0;34m()\u001b[0m\n\u001b[1;32m      1\u001b[0m \u001b[0;31m# This will test your function\u001b[0m\u001b[0;34m\u001b[0m\u001b[0;34m\u001b[0m\u001b[0;34m\u001b[0m\u001b[0m\n\u001b[0;32m----> 2\u001b[0;31m \u001b[0mtest_operations\u001b[0m\u001b[0;34m(\u001b[0m\u001b[0moper_all\u001b[0m\u001b[0;34m)\u001b[0m\u001b[0;34m\u001b[0m\u001b[0;34m\u001b[0m\u001b[0m\n\u001b[0m",
            "\u001b[0;31mNameError\u001b[0m: name 'test_operations' is not defined"
          ]
        }
      ],
      "source": [
        "# This will test your function \n",
        "test_operations(oper_all)"
      ]
    },
    {
      "cell_type": "markdown",
      "metadata": {
        "id": "w43jTNKdWXVu"
      },
      "source": [
        "## 6. Write a function that returns the factorial of a number."
      ]
    },
    {
      "cell_type": "code",
      "execution_count": 7,
      "metadata": {
        "colab": {
          "base_uri": "https://localhost:8080/"
        },
        "id": "9U_XAEviWXVu",
        "outputId": "d28829e8-f793-43a5-95f5-5c371d0a5aba"
      },
      "outputs": [
        {
          "output_type": "stream",
          "name": "stdout",
          "text": [
            "3628800\n"
          ]
        }
      ],
      "source": [
        "def factorial(n):\n",
        "    if n == 0:\n",
        "        return 1\n",
        "    else:\n",
        "        return n * factorial(n - 1)\n",
        "    \n",
        "print(factorial(10))"
      ]
    },
    {
      "cell_type": "code",
      "execution_count": null,
      "metadata": {
        "id": "VU_e-tt1WXVv",
        "outputId": "1a3ca018-24a1-4c4a-ce78-505685ef1dab"
      },
      "outputs": [
        {
          "name": "stderr",
          "output_type": "stream",
          "text": [
            "....................................................................................................\n",
            "----------------------------------------------------------------------\n",
            "Ran 100 tests in 0.037s\n",
            "\n",
            "OK\n"
          ]
        }
      ],
      "source": [
        "# This will test your function \n",
        "test_factorial(factorial)"
      ]
    },
    {
      "cell_type": "markdown",
      "metadata": {
        "id": "oj7_Gf9pWXVv"
      },
      "source": [
        "## 7. Write a function that takes a list and returns a list of the unique values.\n",
        "\n",
        "`NOTE: You cannot use set. 🤔`"
      ]
    },
    {
      "cell_type": "code",
      "execution_count": 11,
      "metadata": {
        "id": "mQm1hdqAWXVv"
      },
      "outputs": [],
      "source": [
        "lista= [1,2,4,6,8,4,3,5,9,8,3,6]\n",
        "\n",
        "def unique (lista):\n",
        "    unicos=[]      \n",
        "    for i in lista:\n",
        "        if lista.count(i) == 1:\n",
        "            unique.append(i)\n",
        "    return unicos\n"
      ]
    },
    {
      "cell_type": "code",
      "execution_count": 16,
      "metadata": {
        "colab": {
          "base_uri": "https://localhost:8080/",
          "height": 183
        },
        "id": "2TIE4-Q8WXVw",
        "outputId": "bb0b11db-9cda-42ab-a53b-bf2d120943d3"
      },
      "outputs": [
        {
          "output_type": "error",
          "ename": "NameError",
          "evalue": "ignored",
          "traceback": [
            "\u001b[0;31m---------------------------------------------------------------------------\u001b[0m",
            "\u001b[0;31mNameError\u001b[0m                                 Traceback (most recent call last)",
            "\u001b[0;32m<ipython-input-16-c90457086e45>\u001b[0m in \u001b[0;36m<module>\u001b[0;34m()\u001b[0m\n\u001b[1;32m      1\u001b[0m \u001b[0;31m# This will test your function\u001b[0m\u001b[0;34m\u001b[0m\u001b[0;34m\u001b[0m\u001b[0;34m\u001b[0m\u001b[0m\n\u001b[0;32m----> 2\u001b[0;31m \u001b[0mtest_unique\u001b[0m\u001b[0;34m(\u001b[0m\u001b[0munique\u001b[0m\u001b[0;34m)\u001b[0m\u001b[0;34m\u001b[0m\u001b[0;34m\u001b[0m\u001b[0m\n\u001b[0m",
            "\u001b[0;31mNameError\u001b[0m: name 'test_unique' is not defined"
          ]
        }
      ],
      "source": [
        "# This will test your function \n",
        "test_unique(unique)"
      ]
    },
    {
      "cell_type": "markdown",
      "metadata": {
        "id": "pmIJxRZeWXVx"
      },
      "source": [
        "## 8. Write a function that returns the mode of a list, i.e.: the element that appears the most times.\n",
        "`NOTE: You should not use count... 🧐`"
      ]
    },
    {
      "cell_type": "code",
      "execution_count": null,
      "metadata": {
        "id": "39ahOByiWXVx"
      },
      "outputs": [],
      "source": [
        "def mode_counter(arr):\n",
        "    pass"
      ]
    },
    {
      "cell_type": "code",
      "execution_count": null,
      "metadata": {
        "id": "H1S99rnKWXVx"
      },
      "outputs": [],
      "source": [
        "# This will test your function \n",
        "test_mode(mode_counter)"
      ]
    },
    {
      "cell_type": "markdown",
      "metadata": {
        "id": "ouBYpCp9WXVx"
      },
      "source": [
        "## 9. Write a function that calculates the standard deviation of a list.\n",
        "`NOTE: Do not use any libraries or already built functions. 😉`"
      ]
    },
    {
      "cell_type": "code",
      "execution_count": 17,
      "metadata": {
        "id": "xnb-kIe1WXVy"
      },
      "outputs": [],
      "source": [
        "from statistics import stdev\n",
        "def st_dev(arr):\n",
        "    pass"
      ]
    },
    {
      "cell_type": "code",
      "execution_count": null,
      "metadata": {
        "id": "nhcVz_kNWXVy"
      },
      "outputs": [],
      "source": [
        "# This will test your function \n",
        "test_stdev(st_dev)"
      ]
    },
    {
      "cell_type": "markdown",
      "metadata": {
        "id": "TElK_J0sWXVy"
      },
      "source": [
        "## 10. Write a function to check if a string is a pangram, i.e.: if it contains all the letters of the alphabet at least once. Mind that the strings may contain characters that are not letters."
      ]
    },
    {
      "cell_type": "code",
      "execution_count": null,
      "metadata": {
        "id": "tystagekWXVy"
      },
      "outputs": [],
      "source": [
        "def pangram(string):\n",
        "    pass"
      ]
    },
    {
      "cell_type": "code",
      "execution_count": null,
      "metadata": {
        "id": "j5TnnmriWXVy"
      },
      "outputs": [],
      "source": [
        "# This will test your function \n",
        "test_pangram(pangram)"
      ]
    },
    {
      "cell_type": "markdown",
      "metadata": {
        "id": "06CKDPjgWXVz"
      },
      "source": [
        "## 11. Write a function that receives a string of comma separated words and returns a string of comma separated words sorted alphabetically.\n",
        "\n",
        "`NOTE: You may use sorted but not split and definitely no join! 🤪`"
      ]
    },
    {
      "cell_type": "code",
      "execution_count": null,
      "metadata": {
        "id": "yfUY8JeRWXVz"
      },
      "outputs": [],
      "source": [
        "def sort_alpha(string):\n",
        "    pass"
      ]
    },
    {
      "cell_type": "code",
      "execution_count": null,
      "metadata": {
        "id": "ZLJjpVCCWXVz"
      },
      "outputs": [],
      "source": [
        "# This will test your function \n",
        "test_alpha(sort_alpha)"
      ]
    },
    {
      "cell_type": "markdown",
      "metadata": {
        "id": "8cc8HnKnWXVz"
      },
      "source": [
        "## 12. Write a function to check if a given password is strong (at least 8 characters, at least one lower case, at least one upper case, at least one number and at least one special character). It should output True if strong and False if not.\n",
        "`Valid special characters: # @ ! $ % & ( ) ^ * [ ] { }`"
      ]
    },
    {
      "cell_type": "code",
      "execution_count": null,
      "metadata": {
        "id": "7X2zHeNXWXV0"
      },
      "outputs": [],
      "source": [
        "def check_pass(string):\n",
        "    pass"
      ]
    },
    {
      "cell_type": "code",
      "execution_count": null,
      "metadata": {
        "id": "ARnc3KKlWXV0"
      },
      "outputs": [],
      "source": [
        "# This will test your function \n",
        "test_pass(check_pass)"
      ]
    }
  ],
  "metadata": {
    "kernelspec": {
      "display_name": "Python 3 (ipykernel)",
      "language": "python",
      "name": "python3"
    },
    "language_info": {
      "codemirror_mode": {
        "name": "ipython",
        "version": 3
      },
      "file_extension": ".py",
      "mimetype": "text/x-python",
      "name": "python",
      "nbconvert_exporter": "python",
      "pygments_lexer": "ipython3",
      "version": "3.9.7"
    },
    "colab": {
      "name": "main-checkpoint.ipynb",
      "provenance": [],
      "include_colab_link": true
    }
  },
  "nbformat": 4,
  "nbformat_minor": 0
}